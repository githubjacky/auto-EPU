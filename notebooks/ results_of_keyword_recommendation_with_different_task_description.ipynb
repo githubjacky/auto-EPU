{
 "cells": [
  {
   "cell_type": "code",
   "execution_count": 1,
   "metadata": {},
   "outputs": [],
   "source": [
    "import os\n",
    "os.chdir('../')"
   ]
  },
  {
   "cell_type": "code",
   "execution_count": 2,
   "metadata": {},
   "outputs": [],
   "source": [
    "import pandas as pd\n",
    "import numpy as np"
   ]
  },
  {
   "cell_type": "code",
   "execution_count": 3,
   "metadata": {},
   "outputs": [],
   "source": [
    "dir = 'data/keywords'\n",
    "models = ['ChatGPT-3.5', 'ChatGPT-4', 'Claude 3 Sonnet']\n",
    "countries = ['US', 'TW', 'CN', 'JP', 'KR']\n",
    "categories = ['economic', 'policy', 'uncertainty']\n",
    "roles = ['newspaper editor', 'economist', 'Minister of Economic Affairs', 'Central Bank Governor']"
   ]
  },
  {
   "cell_type": "markdown",
   "metadata": {},
   "source": [
    "### keywords defined by economists"
   ]
  },
  {
   "cell_type": "code",
   "execution_count": 4,
   "metadata": {},
   "outputs": [],
   "source": [
    "paper_keywords = {\n",
    "    'US': {'economic': [], 'policy': [], 'uncertainty': []},\n",
    "    'TW': {'economic': [], 'policy': [], 'uncertainty': []},\n",
    "    'CN': {'economic': [], 'policy': [], 'uncertainty': []},\n",
    "    'JP': {'economic': [], 'policy': [], 'uncertainty': []},\n",
    "    'KR': {'economic': [], 'policy': [], 'uncertainty': []},\n",
    "}\n",
    "\n",
    "for country in paper_keywords.keys():\n",
    "    for cate in categories:\n",
    "        paper_keywords[country][cate] = (\n",
    "            pd.read_excel(f'{dir}/paper_keywords.xlsx', sheet_name=cate)[country]\n",
    "            .dropna()\n",
    "            .to_list()\n",
    "        )"
   ]
  },
  {
   "cell_type": "code",
   "execution_count": 5,
   "metadata": {},
   "outputs": [],
   "source": [
    "def F1(prec, recall):\n",
    "    if prec == 0 and recall == 0:\n",
    "        return 0\n",
    "    return (2*prec*recall)/(prec+recall)"
   ]
  },
  {
   "cell_type": "code",
   "execution_count": 37,
   "metadata": {},
   "outputs": [
    {
     "data": {
      "text/html": [
       "<div>\n",
       "<style scoped>\n",
       "    .dataframe tbody tr th:only-of-type {\n",
       "        vertical-align: middle;\n",
       "    }\n",
       "\n",
       "    .dataframe tbody tr th {\n",
       "        vertical-align: top;\n",
       "    }\n",
       "\n",
       "    .dataframe thead th {\n",
       "        text-align: right;\n",
       "    }\n",
       "</style>\n",
       "<table border=\"1\" class=\"dataframe\">\n",
       "  <thead>\n",
       "    <tr style=\"text-align: right;\">\n",
       "      <th></th>\n",
       "      <th></th>\n",
       "      <th>Precision</th>\n",
       "      <th>Recall</th>\n",
       "      <th>F1</th>\n",
       "    </tr>\n",
       "    <tr>\n",
       "      <th>Model</th>\n",
       "      <th>Task Description</th>\n",
       "      <th></th>\n",
       "      <th></th>\n",
       "      <th></th>\n",
       "    </tr>\n",
       "  </thead>\n",
       "  <tbody>\n",
       "    <tr>\n",
       "      <th rowspan=\"2\" valign=\"top\">ChatGPT-3.5</th>\n",
       "      <th>Definition</th>\n",
       "      <td>11.812037</td>\n",
       "      <td>38.665961</td>\n",
       "      <td>13.719987</td>\n",
       "    </tr>\n",
       "    <tr>\n",
       "      <th>Simple</th>\n",
       "      <td>10.426316</td>\n",
       "      <td>30.746797</td>\n",
       "      <td>11.774077</td>\n",
       "    </tr>\n",
       "    <tr>\n",
       "      <th rowspan=\"2\" valign=\"top\">ChatGPT-4</th>\n",
       "      <th>Definition</th>\n",
       "      <td>10.375877</td>\n",
       "      <td>29.545551</td>\n",
       "      <td>11.435388</td>\n",
       "    </tr>\n",
       "    <tr>\n",
       "      <th>Simple</th>\n",
       "      <td>9.007037</td>\n",
       "      <td>28.811178</td>\n",
       "      <td>10.306633</td>\n",
       "    </tr>\n",
       "    <tr>\n",
       "      <th rowspan=\"2\" valign=\"top\">Claude 3 Sonnet</th>\n",
       "      <th>Definition</th>\n",
       "      <td>12.138698</td>\n",
       "      <td>41.421876</td>\n",
       "      <td>14.253992</td>\n",
       "    </tr>\n",
       "    <tr>\n",
       "      <th>Simple</th>\n",
       "      <td>9.706746</td>\n",
       "      <td>30.008549</td>\n",
       "      <td>11.086483</td>\n",
       "    </tr>\n",
       "  </tbody>\n",
       "</table>\n",
       "</div>"
      ],
      "text/plain": [
       "                                  Precision     Recall         F1\n",
       "Model           Task Description                                 \n",
       "ChatGPT-3.5     Definition        11.812037  38.665961  13.719987\n",
       "                Simple            10.426316  30.746797  11.774077\n",
       "ChatGPT-4       Definition        10.375877  29.545551  11.435388\n",
       "                Simple             9.007037  28.811178  10.306633\n",
       "Claude 3 Sonnet Definition        12.138698  41.421876  14.253992\n",
       "                Simple             9.706746  30.008549  11.086483"
      ]
     },
     "execution_count": 37,
     "metadata": {},
     "output_type": "execute_result"
    }
   ],
   "source": [
    "data = []\n",
    "for model in models:\n",
    "    for task in [' nd', '']:\n",
    "        for country in countries:\n",
    "            for cate in categories:\n",
    "                t = 'Definition' if task == '' else 'Simple'\n",
    "                sample = [model, t, country, cate]\n",
    "                prec_role = []\n",
    "                recall_role = []\n",
    "                f1_role = []\n",
    "                for role in roles:\n",
    "                    sheet_name = role + task\n",
    "                    df = pd.read_excel(f'{dir}/{country}/{model}/{cate}.xlsx', sheet_name=sheet_name, header=None)\n",
    "                    prec_role.append(np.mean(\n",
    "                        [\n",
    "                            df[i].dropna().isin(paper_keywords[country][cate]).sum() / len(df[i].dropna())\n",
    "                            for i in range(10)\n",
    "                        ]\n",
    "                    ))\n",
    "                    recall_role.append(np.mean(\n",
    "                        [\n",
    "                            df[i].dropna().isin(paper_keywords[country][cate]).sum() / len(paper_keywords[country][cate])\n",
    "                            for i in range(10)\n",
    "                        ]\n",
    "                    ))\n",
    "                    f1_role.append(np.mean(\n",
    "                        [\n",
    "                            F1(\n",
    "                                df[i].dropna().isin(paper_keywords[country][cate]).sum() / len(df[i].dropna()),\n",
    "                                df[i].dropna().isin(paper_keywords[country][cate]).sum() / len(paper_keywords[country][cate])\n",
    "                            )\n",
    "                            for i in range(10)\n",
    "                        ]\n",
    "                    ))\n",
    "                data.append(\n",
    "                    [model, t, country, cate, np.mean(prec_role), np.mean(recall_role), np.mean(f1_role)]\n",
    "                )\n",
    "df = pd.DataFrame(data, columns=['Model', 'Task Description', 'Country', 'Category', 'Precision', 'Recall', 'F1'])\n",
    "df.groupby(['Model', 'Task Description'])[['Precision', 'Recall', 'F1']].mean() *100"
   ]
  }
 ],
 "metadata": {
  "kernelspec": {
   "display_name": "Poetry",
   "language": "python",
   "name": "poetry-kernel"
  },
  "language_info": {
   "codemirror_mode": {
    "name": "ipython",
    "version": 3
   },
   "file_extension": ".py",
   "mimetype": "text/x-python",
   "name": "python",
   "nbconvert_exporter": "python",
   "pygments_lexer": "ipython3",
   "version": "3.11.7"
  }
 },
 "nbformat": 4,
 "nbformat_minor": 2
}
