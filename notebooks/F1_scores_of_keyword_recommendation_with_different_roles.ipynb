{
 "cells": [
  {
   "cell_type": "code",
   "execution_count": 1,
   "metadata": {},
   "outputs": [],
   "source": [
    "import os\n",
    "os.chdir('../')"
   ]
  },
  {
   "cell_type": "code",
   "execution_count": 2,
   "metadata": {},
   "outputs": [],
   "source": [
    "import pandas as pd\n",
    "import numpy as np"
   ]
  },
  {
   "cell_type": "code",
   "execution_count": 3,
   "metadata": {},
   "outputs": [],
   "source": [
    "dir = 'data/keywords'\n",
    "models = ['ChatGPT-3.5', 'ChatGPT-4', 'Claude 3 Sonnet']\n",
    "countries = ['US', 'TW', 'CN', 'JP', 'KR']\n",
    "categories = ['economic', 'policy', 'uncertainty']\n",
    "roles = ['newspaper editor', 'economist', 'Minister of Economic Affairs', 'Central Bank Governor']"
   ]
  },
  {
   "cell_type": "markdown",
   "metadata": {},
   "source": [
    "### keywords defined by economists"
   ]
  },
  {
   "cell_type": "code",
   "execution_count": 4,
   "metadata": {},
   "outputs": [],
   "source": [
    "paper_keywords = {\n",
    "    'US': {'economic': [], 'policy': [], 'uncertainty': []},\n",
    "    'TW': {'economic': [], 'policy': [], 'uncertainty': []},\n",
    "    'CN': {'economic': [], 'policy': [], 'uncertainty': []},\n",
    "    'JP': {'economic': [], 'policy': [], 'uncertainty': []},\n",
    "    'KR': {'economic': [], 'policy': [], 'uncertainty': []},\n",
    "}\n",
    "\n",
    "for country in paper_keywords.keys():\n",
    "    for cate in categories:\n",
    "        paper_keywords[country][cate] = (\n",
    "            pd.read_excel(f'{dir}/paper_keywords.xlsx', sheet_name=cate)[country]\n",
    "            .dropna()\n",
    "            .to_list()\n",
    "        )"
   ]
  },
  {
   "cell_type": "code",
   "execution_count": 5,
   "metadata": {},
   "outputs": [],
   "source": [
    "def F1(prec, recall):\n",
    "    if prec == 0 and recall == 0:\n",
    "        return 0\n",
    "    return (2*prec*recall)/(prec+recall)"
   ]
  },
  {
   "cell_type": "code",
   "execution_count": 19,
   "metadata": {},
   "outputs": [
    {
     "data": {
      "text/html": [
       "<div>\n",
       "<style scoped>\n",
       "    .dataframe tbody tr th:only-of-type {\n",
       "        vertical-align: middle;\n",
       "    }\n",
       "\n",
       "    .dataframe tbody tr th {\n",
       "        vertical-align: top;\n",
       "    }\n",
       "\n",
       "    .dataframe thead th {\n",
       "        text-align: right;\n",
       "    }\n",
       "</style>\n",
       "<table border=\"1\" class=\"dataframe\">\n",
       "  <thead>\n",
       "    <tr style=\"text-align: right;\">\n",
       "      <th></th>\n",
       "      <th></th>\n",
       "      <th>Editor</th>\n",
       "      <th>Economist</th>\n",
       "      <th>Minister</th>\n",
       "      <th>Governor</th>\n",
       "    </tr>\n",
       "    <tr>\n",
       "      <th>Country</th>\n",
       "      <th>Model</th>\n",
       "      <th></th>\n",
       "      <th></th>\n",
       "      <th></th>\n",
       "      <th></th>\n",
       "    </tr>\n",
       "  </thead>\n",
       "  <tbody>\n",
       "    <tr>\n",
       "      <th rowspan=\"3\" valign=\"top\">All</th>\n",
       "      <th>ChatGPT-3.5</th>\n",
       "      <td>13.629802</td>\n",
       "      <td>13.383827</td>\n",
       "      <td>13.880169</td>\n",
       "      <td>13.986149</td>\n",
       "    </tr>\n",
       "    <tr>\n",
       "      <th>ChatGPT-4</th>\n",
       "      <td>11.228571</td>\n",
       "      <td>11.988137</td>\n",
       "      <td>11.527728</td>\n",
       "      <td>10.997117</td>\n",
       "    </tr>\n",
       "    <tr>\n",
       "      <th>Claude 3 Sonnet</th>\n",
       "      <td>13.710435</td>\n",
       "      <td>13.967077</td>\n",
       "      <td>14.430514</td>\n",
       "      <td>14.907944</td>\n",
       "    </tr>\n",
       "    <tr>\n",
       "      <th rowspan=\"3\" valign=\"top\">Taiwan</th>\n",
       "      <th>ChatGPT-3.5</th>\n",
       "      <td>14.720539</td>\n",
       "      <td>15.187590</td>\n",
       "      <td>15.542088</td>\n",
       "      <td>14.740741</td>\n",
       "    </tr>\n",
       "    <tr>\n",
       "      <th>ChatGPT-4</th>\n",
       "      <td>14.161616</td>\n",
       "      <td>14.552189</td>\n",
       "      <td>14.127946</td>\n",
       "      <td>12.026936</td>\n",
       "    </tr>\n",
       "    <tr>\n",
       "      <th>Claude 3 Sonnet</th>\n",
       "      <td>11.245791</td>\n",
       "      <td>12.390572</td>\n",
       "      <td>11.441077</td>\n",
       "      <td>13.959596</td>\n",
       "    </tr>\n",
       "  </tbody>\n",
       "</table>\n",
       "</div>"
      ],
      "text/plain": [
       "                            Editor  Economist   Minister   Governor\n",
       "Country Model                                                      \n",
       "All     ChatGPT-3.5      13.629802  13.383827  13.880169  13.986149\n",
       "        ChatGPT-4        11.228571  11.988137  11.527728  10.997117\n",
       "        Claude 3 Sonnet  13.710435  13.967077  14.430514  14.907944\n",
       "Taiwan  ChatGPT-3.5      14.720539  15.187590  15.542088  14.740741\n",
       "        ChatGPT-4        14.161616  14.552189  14.127946  12.026936\n",
       "        Claude 3 Sonnet  11.245791  12.390572  11.441077  13.959596"
      ]
     },
     "execution_count": 19,
     "metadata": {},
     "output_type": "execute_result"
    }
   ],
   "source": [
    "data = []\n",
    "for model in models:\n",
    "    for task in ['']:  # Task Descriptioon = Definition \n",
    "        for country in countries:\n",
    "            for cate in categories:\n",
    "                t = 'Definition' if task == '' else 'Simple'\n",
    "                f1_role = []\n",
    "                for role in roles:\n",
    "                    sheet_name = role + task\n",
    "                    df = pd.read_excel(f'{dir}/{country}/{model}/{cate}.xlsx', sheet_name=sheet_name, header=None)\n",
    "\n",
    "                    f1_role.append(np.mean(\n",
    "                        [\n",
    "                            F1(\n",
    "                                df[i].dropna().isin(paper_keywords[country][cate]).sum() / len(df[i].dropna()),\n",
    "                                df[i].dropna().isin(paper_keywords[country][cate]).sum() / len(paper_keywords[country][cate])\n",
    "                            )\n",
    "                            for i in range(10)\n",
    "                        ]\n",
    "                    ))\n",
    "                data.append(\n",
    "                    ([model, t, country, cate ] + f1_role)\n",
    "                )\n",
    "df = pd.DataFrame(data, columns=['Model', 'Task Description', 'Country', 'Category', 'Editor', 'Economist', 'Minister', 'Governor'])\n",
    "df = pd.concat([\n",
    "    df.groupby(['Model'])[['Editor', 'Economist', 'Minister', 'Governor']].mean() *100,\n",
    "    df[df['Country'] == 'TW'].groupby(['Model'])[['Editor', 'Economist', 'Minister', 'Governor']].mean() *100\n",
    "]).reset_index()\n",
    "\n",
    "\n",
    "df['Country'] = ['All']*3+['Taiwan']*3\n",
    "df.set_index(['Country', 'Model'])"
   ]
  }
 ],
 "metadata": {
  "kernelspec": {
   "display_name": "Poetry",
   "language": "python",
   "name": "poetry-kernel"
  },
  "language_info": {
   "codemirror_mode": {
    "name": "ipython",
    "version": 3
   },
   "file_extension": ".py",
   "mimetype": "text/x-python",
   "name": "python",
   "nbconvert_exporter": "python",
   "pygments_lexer": "ipython3",
   "version": "3.11.7"
  }
 },
 "nbformat": 4,
 "nbformat_minor": 2
}
